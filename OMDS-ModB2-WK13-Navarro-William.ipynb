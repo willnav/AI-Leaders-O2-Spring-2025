{
 "cells": [
  {
   "cell_type": "markdown",
   "id": "6cdfaa22-715b-415c-a9c1-33fe8130114e",
   "metadata": {},
   "source": [
    "# Week 13 - Bivariate Analysis 2 - Statistics"
   ]
  },
  {
   "cell_type": "markdown",
   "id": "36883803-1e7e-43f5-8272-4c00cc2d7dbd",
   "metadata": {},
   "source": [
    "# "
   ]
  },
  {
   "cell_type": "markdown",
   "id": "d0b0878d-ab12-43c7-888b-95ce2fcb077e",
   "metadata": {},
   "source": [
    "# 1. Lesson"
   ]
  },
  {
   "cell_type": "markdown",
   "id": "264db16e-5695-4e86-a527-bf1cd78a67b5",
   "metadata": {},
   "source": [
    "We are going to consider some statistical tests that you can apply to your data.\n",
    "\n",
    "### T-tests\n",
    "\n",
    "You can use a t-test to discern whether the means of two sets of numbers might be the same.  The t-test is useful for data that are normally distributed.  The data should also have approximately equal variances.  Of course you can run a t-test for data that don't fit these criteria, but the less well it fits, the more likely that the t-test will give the wrong result.\n",
    "\n",
    "First, here is a one-sample t-test to see if you have made a correct guess about the underlying mean:"
   ]
  },
  {
   "cell_type": "code",
   "execution_count": 1,
   "id": "a17949f0-be18-430a-bbad-672124e49aa5",
   "metadata": {},
   "outputs": [
    {
     "name": "stdout",
     "output_type": "stream",
     "text": [
      "0.14759031545459375\n"
     ]
    }
   ],
   "source": [
    "from scipy import stats\n",
    "import numpy as np\n",
    "np.random.seed(0)\n",
    "arr1 = np.random.normal(loc = 0, size = 1000)\n",
    "t_stat, p_value = stats.ttest_1samp(arr1, 0)\n",
    "# The array might have a mean of 0; p > 0.05.  In fact, it does have a mean of 0.\n",
    "print(p_value)"
   ]
  },
  {
   "cell_type": "code",
   "execution_count": 2,
   "id": "8b8cef89-8a83-4946-b402-963c43f02ba7",
   "metadata": {},
   "outputs": [
    {
     "name": "stdout",
     "output_type": "stream",
     "text": [
      "3.738968246353356e-06\n"
     ]
    }
   ],
   "source": [
    "# The array probably does not have a mean of 0.1; p < 0.05.  In fact, it doesn't.\n",
    "t_stat, p_value = stats.ttest_1samp(arr1, 0.1)\n",
    "print(p_value)"
   ]
  },
  {
   "cell_type": "code",
   "execution_count": 3,
   "id": "46117f5e-1e10-47f1-a4a3-39a97461e92c",
   "metadata": {},
   "outputs": [
    {
     "name": "stdout",
     "output_type": "stream",
     "text": [
      "0.8283790364046455\n"
     ]
    }
   ],
   "source": [
    "arr2 = np.random.normal(loc = 0, size = 10)\n",
    "t_stat, p_value = stats.ttest_1samp(arr2, 0.1)\n",
    "# This array might have a mean of 0.1; p > 0.05.  In fact, it doesn't - but since there are only ten samples, we can't tell that\n",
    "print(p_value)"
   ]
  },
  {
   "cell_type": "code",
   "execution_count": 4,
   "id": "878135c1-eef4-494a-a389-a6f679e0653d",
   "metadata": {},
   "outputs": [
    {
     "name": "stdout",
     "output_type": "stream",
     "text": [
      "0.00045250399702813934\n"
     ]
    }
   ],
   "source": [
    "arr3 = np.random.normal(loc = 0.1, size = 1000)\n",
    "t_stat, p_value = stats.ttest_ind(arr1, arr3)\n",
    "# The two arrays probably have different means; p < 0.05.  In fact, they do have different means; 0 and 0.1\n",
    "print(p_value)"
   ]
  },
  {
   "cell_type": "markdown",
   "id": "d82a07b1-a844-4b0b-ae11-3e80eb4f660c",
   "metadata": {},
   "source": [
    "### Mann-Whitney U-test\n",
    "\n",
    "This test is used to determine whether two sets of numbers might come from the same distribution - but without making any assumptions about the data being normally distributed."
   ]
  },
  {
   "cell_type": "code",
   "execution_count": 7,
   "id": "2d4a9858-6f0d-452f-8781-5c85ddd2c3d2",
   "metadata": {},
   "outputs": [
    {
     "name": "stdout",
     "output_type": "stream",
     "text": [
      "0.0006158714688322862\n"
     ]
    }
   ],
   "source": [
    "u_value, p_value = stats.mannwhitneyu(arr1, arr3)\n",
    "# The two arrays probably come from different distributions.  In fact, they do; one comes from mean = 0, one mean = 1.\n",
    "print(p_value)"
   ]
  },
  {
   "cell_type": "code",
   "execution_count": 8,
   "id": "303d0b6e-3014-4e91-93cc-79d0289164a1",
   "metadata": {},
   "outputs": [
    {
     "name": "stdout",
     "output_type": "stream",
     "text": [
      "0.13178840154670063\n"
     ]
    }
   ],
   "source": [
    "np.random.seed(0)\n",
    "arr4 = np.concatenate([np.zeros(10) + 0.01, np.array([1])])\n",
    "arr5 = np.concatenate([np.zeros(10) - 0.01, np.array([-1])])\n",
    "t_stat, p_value = stats.ttest_ind(arr4, arr5)\n",
    "# Here is an example where the t-test fails due to the non-normality of the data.  The data do come from different \n",
    "# distributions with different means, but the t-test fails to detect it.\n",
    "print(p_value)"
   ]
  },
  {
   "cell_type": "code",
   "execution_count": 9,
   "id": "a396e73b-38bf-4fc4-9bc2-c93722f61be8",
   "metadata": {},
   "outputs": [
    {
     "name": "stdout",
     "output_type": "stream",
     "text": [
      "1.2550539978736685e-05\n"
     ]
    }
   ],
   "source": [
    "u_value, p_value = stats.mannwhitneyu(arr4, arr5)\n",
    "# The two arrays probably come from different distributions.  In fact, they do; see above.\n",
    "# It is unusual for the t-test to fail due to non-normality but the Mann-Whitney U-test to succeed, but it can happen as in this case.\n",
    "print(p_value)"
   ]
  },
  {
   "cell_type": "markdown",
   "id": "4cc82047-539a-4a68-b2be-a1877a611f0e",
   "metadata": {},
   "source": [
    "### ANOVA: categorical data plotted vs. continous data\n",
    "\n",
    "ANOVA is a t-test generalized to more than two groups"
   ]
  },
  {
   "cell_type": "code",
   "execution_count": 10,
   "id": "72bc5ed8-f17b-4790-ac5d-6788dbf49a8b",
   "metadata": {},
   "outputs": [
    {
     "name": "stdout",
     "output_type": "stream",
     "text": [
      "0.00028601982658831227\n"
     ]
    }
   ],
   "source": [
    "np.random.seed(0)\n",
    "arr6 = np.random.normal(loc = 0, size = 1000)\n",
    "arr7 = np.random.normal(loc = 0.1, size = 1000)\n",
    "arr8 = np.random.normal(loc = 0.2, size = 1000)\n",
    "result = stats.f_oneway(arr1, arr3, arr6)\n",
    "# The three arrays probably have different means; p < 0.05.  In fact, as you can see, they do have different means.\n",
    "print(result.pvalue)"
   ]
  },
  {
   "cell_type": "markdown",
   "id": "79136ac6-df91-48dc-95b3-aed69f8e8b66",
   "metadata": {},
   "source": [
    "### Chi-square: categorical data plotted vs. categorical data\n",
    "\n",
    "Chi-square will test for statistical independence between counts for two categorical features.  To do this, it requires a matrix of numbers: one feature corresponds to the row and one to the column.  The numbers must be counts.  Thus, if the category for the column is weather (cloudy or sunny) and the category for the row is temperature (low, medium, or high), then the count of days in the month at that temperature and weather would be a good variable for chi-square."
   ]
  },
  {
   "cell_type": "code",
   "execution_count": 22,
   "id": "f687ab7f-7668-4584-bf3b-40200107eca6",
   "metadata": {},
   "outputs": [
    {
     "name": "stdout",
     "output_type": "stream",
     "text": [
      "4.539992976248486e-05\n"
     ]
    }
   ],
   "source": [
    "arr9 = np.array([[10, 0], [5, 5], [0, 10]])\n",
    "result = stats.chi2_contingency(arr9)\n",
    "# Different rows are very different.  Each row is _not_ a fixed multiple of each other, so the variables are not independent.\n",
    "# Thus, the chi-squared test shows that the data are not independent.  \n",
    "# In the next example, we will elaborate on what kind of difference is involved\n",
    "print(result.pvalue)"
   ]
  },
  {
   "cell_type": "markdown",
   "id": "5162cdbb-5cbe-498b-ae5c-73d47bd0f14c",
   "metadata": {},
   "source": [
    "The specific goal of the chi-squared contingency table test is to find out whether the table possesses statistical independence - which is to say, it asks whether each number can be written as a product of two other numbers: one for its row and one for its column.  For example, suppose two stores, A and B, sell two kinds of apples, red and green.  If the number of apples sold is independent, it would mean that we can multiply to get the number sold.  That is, the fraction of the apples that are red and sold at store A would approximately equal the fraction red multiplied by the fraction sold at store A."
   ]
  },
  {
   "cell_type": "code",
   "execution_count": 13,
   "id": "16fe70bf-1467-41c0-805a-fd950e6e6d63",
   "metadata": {},
   "outputs": [
    {
     "name": "stdout",
     "output_type": "stream",
     "text": [
      "[[14.  6.]\n",
      " [21.  9.]]\n"
     ]
    }
   ],
   "source": [
    "A_B_values = np.array([0.4, 0.6])\n",
    "red_green_values = np.array([0.7, 0.3])\n",
    "outer_product = 50 * np.outer(A_B_values, red_green_values)\n",
    "print(outer_product)"
   ]
  },
  {
   "cell_type": "markdown",
   "id": "1e16019c-8594-4b14-9ecd-5853de9b6951",
   "metadata": {},
   "source": [
    "The chi-squared test returns a null result due to the complete independence of the values.  (p > 0.05).  Each row is precisely a fixed multiple of the other.  As above, a low p-value means dependence and a high p-value means independence."
   ]
  },
  {
   "cell_type": "code",
   "execution_count": 23,
   "id": "eb25b915-737d-4e6f-8778-abb210433047",
   "metadata": {},
   "outputs": [
    {
     "name": "stdout",
     "output_type": "stream",
     "text": [
      "1.0\n"
     ]
    }
   ],
   "source": [
    "result = stats.chi2_contingency(outer_product)\n",
    "print(result.pvalue)"
   ]
  },
  {
   "cell_type": "code",
   "execution_count": 24,
   "id": "e0ae4d1d-640c-4ec7-81c1-110eb26bea8d",
   "metadata": {},
   "outputs": [
    {
     "name": "stdout",
     "output_type": "stream",
     "text": [
      "0.3291929878079054\n"
     ]
    }
   ],
   "source": [
    "arr9 = np.array([[10, 0], [9, 1], [8, 2]])\n",
    "result = stats.chi2_contingency(arr9)\n",
    "# Here, the first columns (10, 9, 8) is quite different in its ratios compared with the second (0, 1, 2)\n",
    "# However, because the second column has low counts, it is conceivable that these ratios could not be the true ratios.\n",
    "# This means that perhaps the variables are independent after all, leading to a relatively high p-value - we cannot say for\n",
    "# sure that the data are not independent.  We'd need more data to say that.\n",
    "print(result.pvalue)"
   ]
  },
  {
   "cell_type": "code",
   "execution_count": 28,
   "id": "1766e8d8-e7d3-4698-b07c-f34dcc9f1e32",
   "metadata": {},
   "outputs": [
    {
     "name": "stdout",
     "output_type": "stream",
     "text": [
      "[[30  0]\n",
      " [27  3]\n",
      " [24  6]]\n",
      "0.035673993347252395\n"
     ]
    }
   ],
   "source": [
    "result = stats.chi2_contingency(arr9 * 3)\n",
    "# If we have a lot more data, even with the exact same ratios between the rows, we become more certain that the data are not independent\n",
    "print(arr9 * 3)\n",
    "print(result.pvalue)"
   ]
  },
  {
   "cell_type": "markdown",
   "id": "9238bcf6-b436-42cd-889f-958e7833b430",
   "metadata": {},
   "source": [
    "# 2. Weekly graph question"
   ]
  },
  {
   "cell_type": "markdown",
   "id": "710a11ba-79a2-4006-a6b9-8720dfbdf5d0",
   "metadata": {},
   "source": [
    "Which of the following graph color schemes would you choose, and why?"
   ]
  },
  {
   "cell_type": "code",
   "execution_count": 18,
   "id": "ea4bf748-41f3-49bd-a3bc-4f00576efe16",
   "metadata": {},
   "outputs": [
    {
     "data": {
      "image/png": "[encoded data removed]",
      "text/plain": [
       "<Figure size 640x480 with 1 Axes>"
      ]
     },
     "metadata": {},
     "output_type": "display_data"
    }
   ],
   "source": [
    "import matplotlib.pyplot as plt\n",
    "arr10 = np.arange(10)\n",
    "arr11 = np.random.normal(size = 10) + np.arange(10)\n",
    "fig = plt.plot(arr10, arr11, c = \"black\")\n",
    "ax = plt.gca()\n",
    "ax.set_facecolor((1.0, 0.47, 0.42))"
   ]
  },
  {
   "cell_type": "code",
   "execution_count": 19,
   "id": "3f838814-1227-4a42-bb63-a6bcee1afe61",
   "metadata": {},
   "outputs": [
    {
     "data": {
      "image/png": "[encoded data removed]",
      "text/plain": [
       "<Figure size 640x480 with 1 Axes>"
      ]
     },
     "metadata": {},
     "output_type": "display_data"
    }
   ],
   "source": [
    "fig = plt.plot(arr10, arr11, c = \"white\")\n",
    "ax = plt.gca()\n",
    "ax.set_facecolor((0, 0, 0))"
   ]
  },
  {
   "cell_type": "code",
   "execution_count": 20,
   "id": "35c8b5d8-a6ae-4dde-8c10-eca50952c4f9",
   "metadata": {},
   "outputs": [
    {
     "data": {
      "image/png": "[encoded data removed]",
      "text/plain": [
       "<Figure size 640x480 with 1 Axes>"
      ]
     },
     "metadata": {},
     "output_type": "display_data"
    }
   ],
   "source": [
    "fig = plt.plot(arr10, arr11, c = \"black\")\n",
    "ax = plt.gca()\n",
    "ax.set_facecolor((1, 1, 1))"
   ]
  },
  {
   "cell_type": "markdown",
   "id": "876c3a23-0f5f-442a-86f0-7f7cc97b7112",
   "metadata": {},
   "source": [
    "# 3. Homework"
   ]
  },
  {
   "cell_type": "markdown",
   "id": "04fa8fd9-f0c1-42fa-b096-8070877c8b8e",
   "metadata": {},
   "source": [
    "* Create a dataset showing flowers that have been fertilized with two brands of fertilizer.  The data show the heights of the flowers.  One fertilizer is better than the other, leading to taller flowers - but only slightly taller.\n",
    "* The flowers have some height distribution that is _not_ normal.\n",
    "* Use a t-test and a Mann-Whitney U test to determine whether the flowers have the same height.  (In this case, try the t-test even though the distribution it not normal.  However, that is not always a good idea!)\n",
    "* Actually, create two datasets: one where the t-test works (and detects the slight height difference) and one where the t-test fails.\n",
    "* Draw a box and whisker plot or histogram showing the distribution of the flower heights in each case.  Can you see the difference?\n",
    "* Next, create a dataset showing five different brands of fertilizer, leading to five somewhat different height distributions.  Use an ANOVA test to detect the height differences.  Does the ANOVA test work?\n",
    "* Finally, create a dataset showing the heights of four different flower types for each of the five brand of fertilizers (one height for each pair, so 4 x 5 = 20 heights).  Use a chi squared test to check whether the five different fertilizers lead to different flower heights."
   ]
  },
  {
   "cell_type": "markdown",
   "id": "3cf66766-3093-448d-a7cd-89eb543dc463",
   "metadata": {},
   "source": [
    "# 4. Storytelling With Data plot"
   ]
  },
  {
   "cell_type": "markdown",
   "id": "39aa0192-d4c6-47d8-977e-2de3834fbeea",
   "metadata": {},
   "source": [
    "Reproduce any graph of your choice in chapter nine, stopping before case study 4 (p. 206-227) of the Storytelling With Data book as best you can. You do not have to get the exact data values right, just the overall look and feel."
   ]
  },
  {
   "cell_type": "code",
   "execution_count": null,
   "id": "8b4f771c-d56a-43f1-9b38-f9a70be3d81a",
   "metadata": {},
   "outputs": [],
   "source": []
  }
 ],
 "metadata": {
  "kernelspec": {
   "display_name": "Python 3 (ipykernel)",
   "language": "python",
   "name": "python3"
  },
  "language_info": {
   "codemirror_mode": {
    "name": "ipython",
    "version": 3
   },
   "file_extension": ".py",
   "mimetype": "text/x-python",
   "name": "python",
   "nbconvert_exporter": "python",
   "pygments_lexer": "ipython3",
   "version": "3.12.0"
  }
 },
 "nbformat": 4,
 "nbformat_minor": 5
}
