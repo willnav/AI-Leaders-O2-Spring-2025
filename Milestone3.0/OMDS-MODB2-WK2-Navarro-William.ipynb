{
 "cells": [
  {
   "cell_type": "markdown",
   "id": "5190b54c-d49c-4d6f-80cc-22555336a9cd",
   "metadata": {},
   "source": [
    "# Week 2 - Preprocessing, part 2\n",
    "\n",
    "# 1. Lesson: None"
   ]
  },
  {
   "cell_type": "markdown",
   "id": "47c4e5ff-b05f-4ef2-96f1-49dcb5beb158",
   "metadata": {},
   "source": [
    "# 2. Weekly graph question"
   ]
  },
  {
   "cell_type": "markdown",
   "id": "aad37e29-6e84-41fa-886d-abc1312213ab",
   "metadata": {},
   "source": [
    "The Storytelling With Data book mentions planning on a \"Who, What, and How\" for your data story.  Write down a possible Who, What, and How for your data, using the ideas in the book."
   ]
  },
  {
   "cell_type": "code",
   "execution_count": 1,
   "id": "c862fc32-1297-4587-b9da-4b0642ab3e6e",
   "metadata": {},
   "outputs": [],
   "source": [
    "#In the dataset StateEnergyData:\n",
    "    #WHAT - Energy Used per state per year\n",
    "    #WHO - Each Individual State\n",
    "    #HOW - Tracking the capacity during summer and the max capacity they can produce\n"
   ]
  },
  {
   "cell_type": "markdown",
   "id": "898eb327-aefd-4ac0-b95a-92b616a2181b",
   "metadata": {},
   "source": [
    "# 3. Homework - work with your own data"
   ]
  },
  {
   "cell_type": "code",
   "execution_count": 2,
   "id": "fe925521-979f-4983-8d85-8db8d1316e99",
   "metadata": {},
   "outputs": [],
   "source": [
    "import pandas as pd\n",
    "import numpy as np\n",
    "from datetime import datetime, timedelta"
   ]
  },
  {
   "cell_type": "code",
   "execution_count": 5,
   "id": "f00827bb",
   "metadata": {},
   "outputs": [
    {
     "name": "stdout",
     "output_type": "stream",
     "text": [
      "  Existing Nameplate and Net Summer Capacity by Energy Source, Producer Type and State, 2003-2023  \\\n",
      "0                                               Year                                                \n",
      "1                                               2003                                                \n",
      "2                                               2003                                                \n",
      "3                                               2003                                                \n",
      "4                                               2003                                                \n",
      "\n",
      "  Unnamed: 1                                 Unnamed: 2   Unnamed: 3  \\\n",
      "0      State                               ProducerType   FuelSource   \n",
      "1         AK  Combined Heat and Power, Commercial Power  All Sources   \n",
      "2         AK  Combined Heat and Power, Commercial Power         Coal   \n",
      "3         AK  Combined Heat and Power, Commercial Power    Petroleum   \n",
      "4         AK    Combined Heat and Power, Electric Power  All Sources   \n",
      "\n",
      "                       Unnamed: 4                   Unnamed: 5  \n",
      "0  Nameplate_Capacity_(Megawatts)  Summer_Capacity_(Megawatts)  \n",
      "1                            84.0                         58.0  \n",
      "2                            61.0                         36.0  \n",
      "3                            24.0                         21.0  \n",
      "4                            29.0                         24.0  \n"
     ]
    }
   ],
   "source": [
    "df = pd.read_csv(\"StateEnergyData.csv\")\n",
    "print(df.head())"
   ]
  },
  {
   "cell_type": "code",
   "execution_count": 6,
   "id": "312ffb5f",
   "metadata": {},
   "outputs": [
    {
     "name": "stdout",
     "output_type": "stream",
     "text": [
      "        Existing Nameplate and Net Summer Capacity by Energy Source, Producer Type and State, 2003-2023  \\\n",
      "count                                                   4                                                 \n",
      "unique                                                  4                                                 \n",
      "top                                                 35994                                                 \n",
      "freq                                                    1                                                 \n",
      "\n",
      "        Unnamed: 1  Unnamed: 2  Unnamed: 3  Unnamed: 4  Unnamed: 5  \n",
      "count            4           4           4           4           4  \n",
      "unique           4           4           4           4           4  \n",
      "top          35994       35994       35987       35994       35994  \n",
      "freq             1           1           1           1           1  \n"
     ]
    }
   ],
   "source": [
    "dw = df.describe()\n",
    "print(dw.describe())"
   ]
  },
  {
   "cell_type": "code",
   "execution_count": 9,
   "id": "b5b8c0dc",
   "metadata": {},
   "outputs": [
    {
     "name": "stdout",
     "output_type": "stream",
     "text": [
      "<class 'pandas.core.frame.DataFrame'>\n",
      "RangeIndex: 35994 entries, 0 to 35993\n",
      "Data columns (total 6 columns):\n",
      " #   Column                                                                                           Non-Null Count  Dtype \n",
      "---  ------                                                                                           --------------  ----- \n",
      " 0   Existing Nameplate and Net Summer Capacity by Energy Source, Producer Type and State, 2003-2023  35994 non-null  object\n",
      " 1   Unnamed: 1                                                                                       35994 non-null  object\n",
      " 2   Unnamed: 2                                                                                       35994 non-null  object\n",
      " 3   Unnamed: 3                                                                                       35987 non-null  object\n",
      " 4   Unnamed: 4                                                                                       35994 non-null  object\n",
      " 5   Unnamed: 5                                                                                       35994 non-null  object\n",
      "dtypes: object(6)\n",
      "memory usage: 1.6+ MB\n",
      "None\n"
     ]
    }
   ],
   "source": [
    "dt = df.info()\n",
    "print (dt)"
   ]
  },
  {
   "cell_type": "code",
   "execution_count": 10,
   "id": "16e8576c",
   "metadata": {},
   "outputs": [
    {
     "name": "stdout",
     "output_type": "stream",
     "text": [
      "0        False\n",
      "1        False\n",
      "2        False\n",
      "3        False\n",
      "4        False\n",
      "         ...  \n",
      "35989    False\n",
      "35990    False\n",
      "35991    False\n",
      "35992    False\n",
      "35993    False\n",
      "Length: 35994, dtype: bool\n",
      "0 rows are duplicated\n"
     ]
    }
   ],
   "source": [
    "duplicate_rows = df.duplicated()\n",
    "print(duplicate_rows)\n",
    "num_duplicates = duplicate_rows.sum()\n",
    "print(f\"{num_duplicates} rows are duplicated\")"
   ]
  },
  {
   "cell_type": "code",
   "execution_count": 11,
   "id": "9cf0eaa4",
   "metadata": {},
   "outputs": [
    {
     "name": "stdout",
     "output_type": "stream",
     "text": [
      "\n",
      "Mode for Existing Nameplate and Net Summer Capacity by Energy Source, Producer Type and State, 2003-2023:\n",
      "0    2023\n",
      "Name: Existing Nameplate and Net Summer Capacity by Energy Source, Producer Type and State, 2003-2023, dtype: object\n",
      "\n",
      "Mode for Unnamed: 1:\n",
      "0    US\n",
      "Name: Unnamed: 1, dtype: object\n",
      "\n",
      "Mode for Unnamed: 2:\n",
      "0    Total Electric Power Industry\n",
      "Name: Unnamed: 2, dtype: object\n",
      "\n",
      "Mode for Unnamed: 3:\n",
      "0    All Sources\n",
      "Name: Unnamed: 3, dtype: object\n",
      "\n",
      "Mode for Unnamed: 4:\n",
      "0    2.0\n",
      "Name: Unnamed: 4, dtype: object\n",
      "\n",
      "Mode for Unnamed: 5:\n",
      "0    1.0\n",
      "Name: Unnamed: 5, dtype: object\n"
     ]
    }
   ],
   "source": [
    "for col in df.columns:\n",
    "    print(f\"\\nMode for {col}:\")\n",
    "    print(df[col].mode())"
   ]
  },
  {
   "cell_type": "code",
   "execution_count": 12,
   "id": "86411683",
   "metadata": {},
   "outputs": [
    {
     "name": "stdout",
     "output_type": "stream",
     "text": [
      "Mean values:\n",
      "Series([], dtype: float64)\n",
      "\n",
      "Median values:\n",
      "Series([], dtype: float64)\n",
      "\n",
      "Mode values:\n",
      "  Existing Nameplate and Net Summer Capacity by Energy Source, Producer Type and State, 2003-2023  \\\n",
      "0                                               2023                                                \n",
      "\n",
      "  Unnamed: 1                     Unnamed: 2   Unnamed: 3 Unnamed: 4 Unnamed: 5  \n",
      "0         US  Total Electric Power Industry  All Sources        2.0        1.0  \n"
     ]
    }
   ],
   "source": [
    "# Calculate mean for all columns\n",
    "mean_values = df.mean(numeric_only=True)\n",
    "print(\"Mean values:\")\n",
    "print(mean_values)\n",
    "\n",
    "# Calculate median for all columns\n",
    "median_values = df.median(numeric_only=True)\n",
    "print(\"\\nMedian values:\")\n",
    "print(median_values)\n",
    "\n",
    "# Calculate mode for all columns\n",
    "mode_values = df.mode()\n",
    "print(\"\\nMode values:\")\n",
    "print(mode_values)"
   ]
  },
  {
   "cell_type": "code",
   "execution_count": 13,
   "id": "4b6e6ba7",
   "metadata": {},
   "outputs": [
    {
     "name": "stdout",
     "output_type": "stream",
     "text": [
      "       Existing Nameplate and Net Summer Capacity by Energy Source, Producer Type and State, 2003-2023  \\\n",
      "count                                               35994                                                \n",
      "unique                                                 22                                                \n",
      "top                                                  2023                                                \n",
      "freq                                                 1883                                                \n",
      "\n",
      "       Unnamed: 1                     Unnamed: 2   Unnamed: 3 Unnamed: 4  \\\n",
      "count       35994                          35994        35987      35994   \n",
      "unique         53                              9           15      11242   \n",
      "top            US  Total Electric Power Industry  All Sources        2.0   \n",
      "freq         1470                          10357         6033        499   \n",
      "\n",
      "       Unnamed: 5  \n",
      "count       35994  \n",
      "unique      12327  \n",
      "top           1.0  \n",
      "freq          455  \n",
      "                                                    Mean  Median  \\\n",
      "Existing Nameplate and Net Summer Capacity by E...   NaN     NaN   \n",
      "Unnamed: 1                                           NaN     NaN   \n",
      "Unnamed: 2                                           NaN     NaN   \n",
      "Unnamed: 3                                           NaN     NaN   \n",
      "Unnamed: 4                                           NaN     NaN   \n",
      "Unnamed: 5                                           NaN     NaN   \n",
      "\n",
      "                                                                             Mode  \n",
      "Existing Nameplate and Net Summer Capacity by E...                           2023  \n",
      "Unnamed: 1                                                                     US  \n",
      "Unnamed: 2                                          Total Electric Power Industry  \n",
      "Unnamed: 3                                                            All Sources  \n",
      "Unnamed: 4                                                                    2.0  \n",
      "Unnamed: 5                                                                    1.0  \n"
     ]
    }
   ],
   "source": [
    "# Get all statistics at once\n",
    "summary_stats = df.describe()\n",
    "print(summary_stats)\n",
    "\n",
    "# Or create your own summary\n",
    "summary = pd.DataFrame({\n",
    "    'Mean': df.mean(numeric_only=True),\n",
    "    'Median': df.median(numeric_only=True),\n",
    "    'Mode': df.mode().iloc[0]  # Gets first mode if multiple exist\n",
    "})\n",
    "print(summary)"
   ]
  },
  {
   "cell_type": "code",
   "execution_count": 14,
   "id": "21dad602",
   "metadata": {},
   "outputs": [
    {
     "name": "stdout",
     "output_type": "stream",
     "text": [
      "   Existing Nameplate and Net Summer Capacity by Energy Source, Producer Type and State, 2003-2023  \\\n",
      "0                                                Year                                                \n",
      "1                                                2003                                                \n",
      "2                                                2003                                                \n",
      "3                                                2003                                                \n",
      "4                                                2003                                                \n",
      "5                                                2003                                                \n",
      "6                                                2003                                                \n",
      "7                                                2003                                                \n",
      "8                                                2003                                                \n",
      "9                                                2003                                                \n",
      "10                                               2003                                                \n",
      "11                                               2003                                                \n",
      "12                                               2003                                                \n",
      "13                                               2003                                                \n",
      "14                                               2003                                                \n",
      "15                                               2003                                                \n",
      "16                                               2003                                                \n",
      "17                                               2003                                                \n",
      "18                                               2003                                                \n",
      "19                                               2003                                                \n",
      "\n",
      "   Unnamed: 1                                 Unnamed: 2     Unnamed: 3  \\\n",
      "0       State                               ProducerType     FuelSource   \n",
      "1          AK  Combined Heat and Power, Commercial Power    All Sources   \n",
      "2          AK  Combined Heat and Power, Commercial Power           Coal   \n",
      "3          AK  Combined Heat and Power, Commercial Power      Petroleum   \n",
      "4          AK    Combined Heat and Power, Electric Power    All Sources   \n",
      "5          AK    Combined Heat and Power, Electric Power           Coal   \n",
      "6          AK  Combined Heat and Power, Industrial Power    All Sources   \n",
      "7          AK  Combined Heat and Power, Industrial Power    Natural Gas   \n",
      "8          AK  Combined Heat and Power, Industrial Power      Petroleum   \n",
      "9          AK    Electric Generators, Electric Utilities    All Sources   \n",
      "10         AK    Electric Generators, Electric Utilities           Coal   \n",
      "11         AK    Electric Generators, Electric Utilities  Hydroelectric   \n",
      "12         AK    Electric Generators, Electric Utilities    Natural Gas   \n",
      "13         AK    Electric Generators, Electric Utilities      Petroleum   \n",
      "14         AK    Electric Generators, Electric Utilities           Wind   \n",
      "15         AK              Total Electric Power Industry    All Sources   \n",
      "16         AK              Total Electric Power Industry           Coal   \n",
      "17         AK              Total Electric Power Industry  Hydroelectric   \n",
      "18         AK              Total Electric Power Industry    Natural Gas   \n",
      "19         AK              Total Electric Power Industry      Petroleum   \n",
      "\n",
      "                        Unnamed: 4                   Unnamed: 5  \n",
      "0   Nameplate_Capacity_(Megawatts)  Summer_Capacity_(Megawatts)  \n",
      "1                             84.0                         58.0  \n",
      "2                             61.0                         36.0  \n",
      "3                             24.0                         21.0  \n",
      "4                             29.0                         24.0  \n",
      "5                             29.0                         24.0  \n",
      "6                             68.0                         61.0  \n",
      "7                             36.0                         32.0  \n",
      "8                             32.0                         29.0  \n",
      "9                          1,945.0                      1,753.0  \n",
      "10                            28.0                         25.0  \n",
      "11                           400.0                        396.0  \n",
      "12                           945.0                        803.0  \n",
      "13                           572.0                        529.0  \n",
      "14                             1.0                          1.0  \n",
      "15                         2,126.0                      1,895.0  \n",
      "16                           118.0                         85.0  \n",
      "17                           400.0                        396.0  \n",
      "18                           981.0                        835.0  \n",
      "19                           627.0                        579.0  \n"
     ]
    }
   ],
   "source": [
    "print(df.iloc[0:20, 0:10])"
   ]
  },
  {
   "cell_type": "code",
   "execution_count": 15,
   "id": "f0b93805",
   "metadata": {},
   "outputs": [
    {
     "name": "stdout",
     "output_type": "stream",
     "text": [
      "Number of null values in each column:\n",
      "Existing Nameplate and Net Summer Capacity by Energy Source, Producer Type and State, 2003-2023    0\n",
      "Unnamed: 1                                                                                         0\n",
      "Unnamed: 2                                                                                         0\n",
      "Unnamed: 3                                                                                         7\n",
      "Unnamed: 4                                                                                         0\n",
      "Unnamed: 5                                                                                         0\n",
      "dtype: int64\n",
      "\n",
      "Percentage of null values in each column:\n",
      "Existing Nameplate and Net Summer Capacity by Energy Source, Producer Type and State, 2003-2023    0.000000\n",
      "Unnamed: 1                                                                                         0.000000\n",
      "Unnamed: 2                                                                                         0.000000\n",
      "Unnamed: 3                                                                                         0.019448\n",
      "Unnamed: 4                                                                                         0.000000\n",
      "Unnamed: 5                                                                                         0.000000\n",
      "dtype: float64\n"
     ]
    }
   ],
   "source": [
    "#null values\n",
    "null_counts = df.isnull().sum()\n",
    "print(\"Number of null values in each column:\")\n",
    "print(null_counts)\n",
    "#percentage of null\n",
    "null_percentages = (df.isnull().sum()/len(df))*100\n",
    "print(\"\\nPercentage of null values in each column:\")\n",
    "print(null_percentages)\n",
    "#fill null values with mean for numeric column\n",
    "df_filled = df.fillna(df.mean(numeric_only=True))"
   ]
  },
  {
   "cell_type": "code",
   "execution_count": 16,
   "id": "cdc13b0a",
   "metadata": {},
   "outputs": [
    {
     "name": "stdout",
     "output_type": "stream",
     "text": [
      "\n",
      "Reamaning null values after filling:\n",
      "Existing Nameplate and Net Summer Capacity by Energy Source, Producer Type and State, 2003-2023    0\n",
      "Unnamed: 1                                                                                         0\n",
      "Unnamed: 2                                                                                         0\n",
      "Unnamed: 3                                                                                         7\n",
      "Unnamed: 4                                                                                         0\n",
      "Unnamed: 5                                                                                         0\n",
      "dtype: int64\n"
     ]
    }
   ],
   "source": [
    "remaining_nulls = df.isnull().sum()\n",
    "print(\"\\nReamaning null values after filling:\")\n",
    "print(remaining_nulls)"
   ]
  },
  {
   "cell_type": "markdown",
   "id": "14836788-b235-4cd4-b94d-5f749c6141a8",
   "metadata": {},
   "source": [
    "This week, you will do the same types of exercises as last week, but you should use your own datasets that you found last semester.\n",
    "\n",
    "### Here are some types of analysis you can do  Use Google, documentation, and ChatGPT to help you:\n",
    "\n",
    "- Summarize the datasets using info() and describe()\n",
    "\n",
    "- Are there any duplicate rows?\n",
    "\n",
    "- Are there any duplicate values in a given column (when this would be inappropriate?)\n",
    "\n",
    "- What are the mean, median, and mode of each column?\n",
    "\n",
    "- Are there any missing or null values?\n",
    "\n",
    "    - Do you want to fill in the missing value with a mean value?  A value of your choice?  Remove that row?\n",
    "\n",
    "- Identify any other inconsistent data (e.g. someone seems to be taking an action before they are born.)\n",
    "\n",
    "- Encode any categorical variables (e.g. with one-hot encoding.)\n",
    "\n",
    "### Conclusions:\n",
    "\n",
    "- Are the data usable?  If not, find some new data!\n",
    "\n",
    "- Do you need to modify or correct the data in some way?\n",
    "\n",
    "- Is there any class imbalance?  (Categories that have many more items than other categories)."
   ]
  },
  {
   "cell_type": "code",
   "execution_count": 17,
   "id": "816acca5",
   "metadata": {},
   "outputs": [],
   "source": [
    "#the data is usable. What we need to modify from it are the headers so that at the moment of running the program to gather information about the data\n",
    "#it easier for code to identify rows and columns"
   ]
  },
  {
   "cell_type": "markdown",
   "id": "abab9e6d-18cc-4863-b980-3e52f581763a",
   "metadata": {},
   "source": [
    "# 4. Storytelling With Data graph"
   ]
  },
  {
   "cell_type": "markdown",
   "id": "1911148d-9df6-4b33-a875-8c96408ec834",
   "metadata": {},
   "source": [
    "Just like last week: choose any graph in the Introduction of Storytelling With Data. Use matplotlib to reproduce it in a rough way. I don't expect you to spend an enormous amount of time on this; I understand that you likely will not have time to re-create every feature of the graph. However, if you're excited about learning to use matplotlib, this is a good way to do that. You don't have to duplicate the exact values on the graph; just the same rough shape will be enough.  If you don't feel comfortable using matplotlib yet, do the best you can and write down what you tried or what Google searches you did to find the answers."
   ]
  },
  {
   "cell_type": "code",
   "execution_count": 28,
   "id": "8b2888f9-3700-45ab-9829-6a5372106f9f",
   "metadata": {},
   "outputs": [
    {
     "data": {
      "text/plain": [
       "<Figure size 1200x800 with 0 Axes>"
      ]
     },
     "metadata": {},
     "output_type": "display_data"
    },
    {
     "data": {
      "image/png": "[encoded data removed]",
      "text/plain": [
       "<Figure size 1200x800 with 1 Axes>"
      ]
     },
     "metadata": {},
     "output_type": "display_data"
    }
   ],
   "source": [
    "import pandas as pd\n",
    "import matplotlib.pyplot as plt\n",
    "import numpy as np\n",
    "import csv\n",
    "\n",
    "# Load the data using csv module to properly handle quoted fields containing commas\n",
    "with open('StateEnergyData.csv', 'r') as file:\n",
    "    csv_reader = csv.reader(file)\n",
    "    data = list(csv_reader)\n",
    "\n",
    "# Extract the actual header from the second row\n",
    "header = data[1]\n",
    "\n",
    "# Create DataFrame with proper columns, skipping the first row and header row\n",
    "df = pd.DataFrame(data[2:], columns=header)\n",
    "\n",
    "# Clean column names\n",
    "df.columns = ['Year', 'State', 'ProducerType', 'FuelSource', \n",
    "              'Nameplate_Capacity_MW', 'Summer_Capacity_MW']\n",
    "\n",
    "# Function to clean and convert capacity values\n",
    "def clean_capacity(value):\n",
    "    if pd.isna(value) or value is None:\n",
    "        return np.nan\n",
    "    \n",
    "    # Convert to string for consistent handling\n",
    "    value_str = str(value).strip()\n",
    "    \n",
    "    # Check for empty or problematic values\n",
    "    if value_str == '' or value_str == '.' or value_str == '-' or value_str == ' ':\n",
    "        return np.nan\n",
    "    \n",
    "    # Remove commas and try to convert to float\n",
    "    try:\n",
    "        return float(value_str.replace(',', ''))\n",
    "    except ValueError:\n",
    "        return np.nan\n",
    "\n",
    "# Apply data cleaning\n",
    "df['Summer_Capacity_MW'] = df['Summer_Capacity_MW'].apply(clean_capacity)\n",
    "df['Year'] = pd.to_numeric(df['Year'], errors='coerce')\n",
    "\n",
    "# Filter to 2023 data for Total Electric Power Industry, excluding All Sources\n",
    "data = df[(df['Year'] == 2023) & \n",
    "          (df['ProducerType'] == 'Total Electric Power Industry') & \n",
    "          (df['FuelSource'] != 'All Sources')]\n",
    "\n",
    "# Remove any rows with NaN capacity values\n",
    "data = data.dropna(subset=['Summer_Capacity_MW'])\n",
    "\n",
    "# Get top 5 states by total capacity\n",
    "state_totals = data.groupby('State')['Summer_Capacity_MW'].sum()\n",
    "top_states = state_totals.nlargest(5).index.tolist()\n",
    "\n",
    "# Filter to top states only\n",
    "top_data = data[data['State'].isin(top_states)]\n",
    "\n",
    "# Create pivot table for plotting\n",
    "plot_data = top_data.pivot_table(index='State', \n",
    "                                 columns='FuelSource', \n",
    "                                 values='Summer_Capacity_MW', \n",
    "                                 aggfunc='sum').fillna(0)\n",
    "\n",
    "# Reorder states by total capacity\n",
    "plot_data = plot_data.reindex(top_states)\n",
    "\n",
    "# Create stacked bar chart\n",
    "plt.figure(figsize=(12, 8))\n",
    "ax = plot_data.plot(kind='bar', stacked=True, figsize=(12, 8), \n",
    "                    colormap='tab20', width=0.8)\n",
    "\n",
    "# Customize chart\n",
    "plt.title('Energy Capacity by Source for Top 5 States (2023)', fontsize=16)\n",
    "plt.xlabel('State', fontsize=14)\n",
    "plt.ylabel('Capacity (Megawatts)', fontsize=14)\n",
    "plt.xticks(rotation=0, fontsize=12)\n",
    "plt.yticks(fontsize=12)\n",
    "plt.legend(title='Fuel Source', bbox_to_anchor=(1.05, 1), loc='upper left', fontsize=12)\n",
    "plt.grid(axis='y', linestyle='--', alpha=0.7)\n",
    "plt.tight_layout()\n",
    "\n",
    "plt.savefig('state_energy_capacity.png', dpi=300, bbox_inches='tight')\n",
    "plt.show()"
   ]
  }
 ],
 "metadata": {
  "kernelspec": {
   "display_name": "Python 3",
   "language": "python",
   "name": "python3"
  },
  "language_info": {
   "codemirror_mode": {
    "name": "ipython",
    "version": 3
   },
   "file_extension": ".py",
   "mimetype": "text/x-python",
   "name": "python",
   "nbconvert_exporter": "python",
   "pygments_lexer": "ipython3",
   "version": "3.12.1"
  }
 },
 "nbformat": 4,
 "nbformat_minor": 5
}
